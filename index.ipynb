{
 "cells": [
  {
   "cell_type": "code",
   "execution_count": 2,
   "metadata": {},
   "outputs": [],
   "source": [
    "from data.main import songs\n",
    "\n",
    "from analysis.compute import get_playlists\n",
    "from utils.render_playlists import build_frame"
   ]
  },
  {
   "cell_type": "markdown",
   "metadata": {},
   "source": [
    "### Interactive Console\n",
    "Here you can select your input playlist. The output will render playable song widgets for songs that can be found on [SoundCloud](https://soundcloud.com/search/sounds)."
   ]
  },
  {
   "cell_type": "code",
   "execution_count": null,
   "metadata": {
    "scrolled": false
   },
   "outputs": [],
   "source": [
    "# Choose a random subset as input playlist\n",
    "subset = songs.sample(8)\n",
    "\n",
    "# custom select by track_ids\n",
    "# Uncomment the following if you'd like to choose your own playlist\n",
    "# You can add more track_ids by inspecting the `songs` dataframe\n",
    "# subset = songs.loc[\n",
    "#     ['TRACCVZ128F4291A8A',\n",
    "#      'TRACCMH128F428E4CD',\n",
    "#      'TRBGVWB12903CE31A6',\n",
    "#      'TRBGVOJ12903CDA92E'\n",
    "#     ]\n",
    "# ]\n",
    "\n",
    "# Adjust rec_size to choose the size of recommended playlist\n",
    "your_playlist, rec_playlist = get_playlists(subset, rec_size=len(subset))\n",
    "build_frame([user_playlist, rec_playlist])"
   ]
  },
  {
   "cell_type": "code",
   "execution_count": null,
   "metadata": {},
   "outputs": [],
   "source": []
  }
 ],
 "metadata": {
  "kernelspec": {
   "display_name": "Python 3",
   "language": "python",
   "name": "python3"
  },
  "language_info": {
   "codemirror_mode": {
    "name": "ipython",
    "version": 3
   },
   "file_extension": ".py",
   "mimetype": "text/x-python",
   "name": "python",
   "nbconvert_exporter": "python",
   "pygments_lexer": "ipython3",
   "version": "3.6.8"
  }
 },
 "nbformat": 4,
 "nbformat_minor": 2
}
