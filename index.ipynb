{
 "cells": [
  {
   "cell_type": "code",
   "execution_count": 1,
   "metadata": {},
   "outputs": [],
   "source": [
    "from data.main import songs\n",
    "\n",
    "from analysis.compute import get_playlists\n",
    "from utils.render_playlists import build_frame"
   ]
  },
  {
   "cell_type": "markdown",
   "metadata": {},
   "source": [
    "### Interactive Console\n",
    "Here you can select your input playlist. The output will render playable song widgets for songs that can be found on [SoundCloud](https://soundcloud.com/search/sounds)."
   ]
  },
  {
   "cell_type": "code",
   "execution_count": 5,
   "metadata": {
    "scrolled": false
   },
   "outputs": [
    {
     "data": {
      "text/html": [
       "    <html>    <head>        <meta charset=\"utf-8\">        <title>Playlists</title>        <style>            html, body {  margin: 0;}.playlists-container {  display: grid;  grid-template-columns: repeat(2, 1fr);  grid-template-rows: auto;  column-gap: 12px;  font-family: Interstate,Lucida Grande,Lucida Sans Unicode,Lucida Sans,Garuda,Verdana,Tahoma,sans-serif;}.header {  color: #333;  text-align: center;  margin: 14px 0 !important;}.notfound {  background: #f5f5f5;  border: 1px solid #e5e5e5;  border-radius: 3px;  box-sizing: border-box;  padding: 10px;  height: 110px;  margin-bottom: 6px;  font-weight: 100;}.notfound .info {  font-size: 12px;  color: #666;  float: right;}.notfound .artist {  color: #666;  font-size: 13px;  text-decoration: underline;}.notfound .title {  color: #333;  font-size: 20px;}        </style>    </head>    <body><div class=\"playlists-container\">    <div class=\"playlist\">    <header><h2 class=\"header\">Your Playlist</h2></header>                <iframe width=\"100%\" height=\"110\" frameborder=\"no\" src=\"https://w.soundcloud.com/player/?url=https%3A//api.soundcloud.com/tracks/254233964\">            </iframe>                        <iframe width=\"100%\" height=\"110\" frameborder=\"no\" src=\"https://w.soundcloud.com/player/?url=https%3A//api.soundcloud.com/tracks/539594718\">            </iframe>                        <div class=\"notfound\">                <div class=\"info\">&#9432; Audio Not Found</div>                <a class=\"artist\">Erja Lyytinen</a><br>                <span class=\"title\">Soul Of A Man</span>            </div>                        <iframe width=\"100%\" height=\"110\" frameborder=\"no\" src=\"https://w.soundcloud.com/player/?url=https%3A//api.soundcloud.com/tracks/287740548\">            </iframe>                        <iframe width=\"100%\" height=\"110\" frameborder=\"no\" src=\"https://w.soundcloud.com/player/?url=https%3A//api.soundcloud.com/tracks/255919490\">            </iframe>                        <iframe width=\"100%\" height=\"110\" frameborder=\"no\" src=\"https://w.soundcloud.com/player/?url=https%3A//api.soundcloud.com/tracks/197812815\">            </iframe>                        <iframe width=\"100%\" height=\"110\" frameborder=\"no\" src=\"https://w.soundcloud.com/player/?url=https%3A//api.soundcloud.com/tracks/252571554\">            </iframe>                        <iframe width=\"100%\" height=\"110\" frameborder=\"no\" src=\"https://w.soundcloud.com/player/?url=https%3A//api.soundcloud.com/tracks/259036007\">            </iframe>            </div>        <div class=\"playlist\">    <header><h2 class=\"header\">Recommended Playlist</h2></header>                <iframe width=\"100%\" height=\"110\" frameborder=\"no\" src=\"https://w.soundcloud.com/player/?url=https%3A//api.soundcloud.com/tracks/147599954\">            </iframe>                        <iframe width=\"100%\" height=\"110\" frameborder=\"no\" src=\"https://w.soundcloud.com/player/?url=https%3A//api.soundcloud.com/tracks/252389634\">            </iframe>                        <iframe width=\"100%\" height=\"110\" frameborder=\"no\" src=\"https://w.soundcloud.com/player/?url=https%3A//api.soundcloud.com/tracks/256553731\">            </iframe>                        <iframe width=\"100%\" height=\"110\" frameborder=\"no\" src=\"https://w.soundcloud.com/player/?url=https%3A//api.soundcloud.com/tracks/714849301\">            </iframe>                        <iframe width=\"100%\" height=\"110\" frameborder=\"no\" src=\"https://w.soundcloud.com/player/?url=https%3A//api.soundcloud.com/tracks/254564470\">            </iframe>                        <iframe width=\"100%\" height=\"110\" frameborder=\"no\" src=\"https://w.soundcloud.com/player/?url=https%3A//api.soundcloud.com/tracks/270795847\">            </iframe>                        <iframe width=\"100%\" height=\"110\" frameborder=\"no\" src=\"https://w.soundcloud.com/player/?url=https%3A//api.soundcloud.com/tracks/391657557\">            </iframe>                        <iframe width=\"100%\" height=\"110\" frameborder=\"no\" src=\"https://w.soundcloud.com/player/?url=https%3A//api.soundcloud.com/tracks/297906992\">            </iframe>            </div>    </div></body>    </html>    "
      ],
      "text/plain": [
       "<IPython.core.display.HTML object>"
      ]
     },
     "execution_count": 5,
     "metadata": {},
     "output_type": "execute_result"
    }
   ],
   "source": [
    "# Choose a random subset as input playlist\n",
    "subset = songs.sample(8)\n",
    "\n",
    "# custom select by track_ids\n",
    "# Uncomment the following if you'd like to choose your own playlist\n",
    "# You can add more track_ids by inspecting the `songs` dataframe\n",
    "# subset = songs.loc[\n",
    "#     ['TRACCVZ128F4291A8A',\n",
    "#      'TRACCMH128F428E4CD',\n",
    "#      'TRBGVWB12903CE31A6',\n",
    "#      'TRBGVOJ12903CDA92E'\n",
    "#     ]\n",
    "# ]\n",
    "\n",
    "# Adjust rec_size to choose the size of recommended playlist\n",
    "your_playlist, rec_playlist = get_playlists(subset, rec_size=len(subset))\n",
    "build_frame([your_playlist, rec_playlist])"
   ]
  }
 ],
 "metadata": {
  "kernelspec": {
   "display_name": "Python 3",
   "language": "python",
   "name": "python3"
  },
  "language_info": {
   "codemirror_mode": {
    "name": "ipython",
    "version": 3
   },
   "file_extension": ".py",
   "mimetype": "text/x-python",
   "name": "python",
   "nbconvert_exporter": "python",
   "pygments_lexer": "ipython3",
   "version": "3.6.8"
  }
 },
 "nbformat": 4,
 "nbformat_minor": 2
}
