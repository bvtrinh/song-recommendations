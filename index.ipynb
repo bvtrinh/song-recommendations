{
 "cells": [
  {
   "cell_type": "code",
   "execution_count": 1,
   "metadata": {},
   "outputs": [],
   "source": [
    "from utils.render_html import build_frame\n",
    "from models.playlist import PlayList"
   ]
  },
  {
   "cell_type": "code",
   "execution_count": 3,
   "metadata": {},
   "outputs": [
    {
     "data": {
      "text/html": [
       "    <html>    <head>        <meta charset=\"utf-8\">        <title>Playlists</title>        <style>            html, body {  margin: 0;}.playlists-container {  display: grid;  grid-template-columns: repeat(2, 1fr);  grid-template-rows: auto;  column-gap: 12px;  font-family: Interstate,Lucida Grande,Lucida Sans Unicode,Lucida Sans,Garuda,Verdana,Tahoma,sans-serif;}.header {  color: #333;  text-align: center;  margin: 14px 0 !important;}.notfound {  background: #f5f5f5;  border: 1px solid #e5e5e5;  border-radius: 3px;  box-sizing: border-box;  padding: 10px;  height: 110px;  margin-bottom: 6px;  font-weight: 100;}.notfound .info {  font-size: 12px;  color: #666;  float: right;}.notfound .artist {  color: #666;  font-size: 15px;  text-decoration: underline;}.notfound .title {  color: #333;  font-size: 20px;}        </style>    </head>    <body><div class=\"playlists-container\">    <div class=\"playlist\">    <header><h2 class=\"header\">My Playlist</h2></header>                <iframe width=\"100%\" height=\"110\" frameborder=\"no\" src=\"https://w.soundcloud.com/player/?url=https%3A//api.soundcloud.com/tracks/282151801\">            </iframe>                        <div class=\"notfound\">                <div class=\"info\">&#9432; Audio Not Found</div>                <a class=\"artist\">Some Artist</a><br>                <span class=\"title\">Cavasamba Um (Edit)</span>            </div>                        <iframe width=\"100%\" height=\"110\" frameborder=\"no\" src=\"https://w.soundcloud.com/player/?url=https%3A//api.soundcloud.com/tracks/239095617\">            </iframe>                        <iframe width=\"100%\" height=\"110\" frameborder=\"no\" src=\"https://w.soundcloud.com/player/?url=https%3A//api.soundcloud.com/tracks/237701069\">            </iframe>                        <iframe width=\"100%\" height=\"110\" frameborder=\"no\" src=\"https://w.soundcloud.com/player/?url=https%3A//api.soundcloud.com/tracks/299073582\">            </iframe>                        <iframe width=\"100%\" height=\"110\" frameborder=\"no\" src=\"https://w.soundcloud.com/player/?url=https%3A//api.soundcloud.com/tracks/253624857\">            </iframe>                        <iframe width=\"100%\" height=\"110\" frameborder=\"no\" src=\"https://w.soundcloud.com/player/?url=https%3A//api.soundcloud.com/tracks/31434643\">            </iframe>                        <iframe width=\"100%\" height=\"110\" frameborder=\"no\" src=\"https://w.soundcloud.com/player/?url=https%3A//api.soundcloud.com/tracks/253823992\">            </iframe>                        <iframe width=\"100%\" height=\"110\" frameborder=\"no\" src=\"https://w.soundcloud.com/player/?url=https%3A//api.soundcloud.com/tracks/300720650\">            </iframe>            </div>        <div class=\"playlist\">    <header><h2 class=\"header\">Recommended</h2></header>                <iframe width=\"100%\" height=\"110\" frameborder=\"no\" src=\"https://w.soundcloud.com/player/?url=https%3A//api.soundcloud.com/tracks/241218709\">            </iframe>                        <iframe width=\"100%\" height=\"110\" frameborder=\"no\" src=\"https://w.soundcloud.com/player/?url=https%3A//api.soundcloud.com/tracks/297283905\">            </iframe>                        <iframe width=\"100%\" height=\"110\" frameborder=\"no\" src=\"https://w.soundcloud.com/player/?url=https%3A//api.soundcloud.com/tracks/253581832\">            </iframe>                        <iframe width=\"100%\" height=\"110\" frameborder=\"no\" src=\"https://w.soundcloud.com/player/?url=https%3A//api.soundcloud.com/tracks/253577032\">            </iframe>                        <iframe width=\"100%\" height=\"110\" frameborder=\"no\" src=\"https://w.soundcloud.com/player/?url=https%3A//api.soundcloud.com/tracks/83609090\">            </iframe>            </div>    </div></body>    </html>    "
      ],
      "text/plain": [
       "<IPython.core.display.HTML object>"
      ]
     },
     "metadata": {},
     "output_type": "display_data"
    }
   ],
   "source": [
    "# generate random playlists\n",
    "playlists = [PlayList(name='My Playlist'), PlayList(name='Recommended')]\n",
    "display(build_frame(playlists))"
   ]
  }
 ],
 "metadata": {
  "kernelspec": {
   "display_name": "Python 3",
   "language": "python",
   "name": "python3"
  },
  "language_info": {
   "codemirror_mode": {
    "name": "ipython",
    "version": 3
   },
   "file_extension": ".py",
   "mimetype": "text/x-python",
   "name": "python",
   "nbconvert_exporter": "python",
   "pygments_lexer": "ipython3",
   "version": "3.6.8"
  }
 },
 "nbformat": 4,
 "nbformat_minor": 2
}
